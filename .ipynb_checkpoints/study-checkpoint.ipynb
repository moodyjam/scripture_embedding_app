{
 "cells": [
  {
   "cell_type": "code",
   "execution_count": 1,
   "id": "7ff068d0-8bce-40f5-91a3-6e4308046ad1",
   "metadata": {},
   "outputs": [],
   "source": [
    "from openai import OpenAI\n",
    "import pandas as pd\n",
    "import time\n",
    "import numpy as np\n",
    "from scipy.spatial.distance import cosine\n",
    "import pandas as pd\n",
    "import ast\n",
    "\n",
    "client = OpenAI()\n",
    "\n",
    "def get_embedding(text, model=\"text-embedding-3-small\"):\n",
    "   text = text.replace(\"\\n\", \" \")\n",
    "   return client.embeddings.create(input = [text], model=model).data[0].embedding"
   ]
  },
  {
   "cell_type": "code",
   "execution_count": 2,
   "id": "eb804804-9ce4-4635-b600-a3a188f6cfb0",
   "metadata": {},
   "outputs": [
    {
     "name": "stdout",
     "output_type": "stream",
     "text": [
      "   Unnamed: 0     Book  Chapter  Verse Number  \\\n",
      "0           0  1 Nephi        1             1   \n",
      "1           1  1 Nephi        1             2   \n",
      "2           2  1 Nephi        1             3   \n",
      "3           3  1 Nephi        1             4   \n",
      "4           4  1 Nephi        1             5   \n",
      "\n",
      "                                          Verse Text  \\\n",
      "0  I, Nephi, having been born of goodly parents, ...   \n",
      "1  Yea, I make a record in the language of my fat...   \n",
      "2  And I know that the record which I make is tru...   \n",
      "3  For it came to pass in the commencement of the...   \n",
      "4  Wherefore it came to pass that my father, Lehi...   \n",
      "\n",
      "                                     small_embedding  \n",
      "0  [0.022863460704684258, -0.0034764057490974665,...  \n",
      "1  [0.014547476544976234, 0.026577120646834373, 0...  \n",
      "2  [0.02322634868323803, 0.01963120698928833, 0.0...  \n",
      "3  [0.0457134023308754, 0.023395659402012825, 0.0...  \n",
      "4  [0.027752844616770744, -0.02123965509235859, -...  \n"
     ]
    }
   ],
   "source": [
    "# Load CSV into a DataFrame\n",
    "df = pd.read_csv('book_of_mormon_with_embeddings.csv')\n",
    "\n",
    "# Display the first few rows of the DataFrame\n",
    "print(df.head())"
   ]
  },
  {
   "cell_type": "markdown",
   "id": "73c84309-4549-4493-b6f1-7e40ac8430b9",
   "metadata": {},
   "source": [
    "## Convert the embeddings to a large numpy array"
   ]
  },
  {
   "cell_type": "code",
   "execution_count": 3,
   "id": "288f1839-7ba6-4d9f-8a26-ae7700c61d7b",
   "metadata": {},
   "outputs": [
    {
     "data": {
      "text/plain": [
       "(6549, 1536)"
      ]
     },
     "execution_count": 3,
     "metadata": {},
     "output_type": "execute_result"
    }
   ],
   "source": [
    "df['small_embedding'] = df['small_embedding'].apply(ast.literal_eval)\n",
    "df['small_embedding'] = df['small_embedding'].apply(np.array)\n",
    "small_embeddings = np.vstack(df[\"small_embedding\"])\n",
    "normed_small_embeddings = small_embeddings / np.linalg.norm(small_embeddings, axis=-1, keepdims=True)\n",
    "normed_small_embeddings.shape"
   ]
  },
  {
   "cell_type": "code",
   "execution_count": 4,
   "id": "80e51c88-5da2-42b3-8243-d6a681cd9304",
   "metadata": {},
   "outputs": [],
   "source": [
    "normed_small_embeddings = small_embeddings / np.linalg.norm(small_embeddings, axis=-1, keepdims=True)"
   ]
  },
  {
   "cell_type": "markdown",
   "id": "f82e950e-67eb-4af4-ac7b-83edbe0fb583",
   "metadata": {},
   "source": [
    "## How to use the function"
   ]
  },
  {
   "cell_type": "code",
   "execution_count": 5,
   "id": "2c1e6020-b201-488d-b08f-4f05f0d0c5e7",
   "metadata": {},
   "outputs": [],
   "source": [
    "def find_most_similar_verses(input_text, topk=10, comparison_embeddings=None, df=None):\n",
    "    new_embedding = get_embedding(input_text)\n",
    "    similarities = normed_small_embeddings@(np.array(new_embedding) / np.linalg.norm(new_embedding))\n",
    "    sorted_similarities = sorted(similarities, reverse=True)\n",
    "    sorted_indices = np.argsort(similarities)[::-1][:topk]\n",
    "\n",
    "    for idx in sorted_indices:\n",
    "        result = df.iloc[idx]\n",
    "        print(f\"Book: {result[1]}, Chapter: {result[2]}, Verse: {result[3]}\")\n",
    "        print(f\"{result[4]}\")\n",
    "        print(f\"Similarity Score: {similarities[idx]}\")\n",
    "        print(\"\\n\")\n",
    "    "
   ]
  },
  {
   "cell_type": "code",
   "execution_count": 9,
   "id": "22c21b17-c003-4236-87cb-edf3f34a1e32",
   "metadata": {},
   "outputs": [
    {
     "name": "stdout",
     "output_type": "stream",
     "text": [
      "Book: Moroni, Chapter: 8, Verse: 26\n",
      "And the remission of sins bringeth meekness, and lowliness of heart; and because of meekness and lowliness of heart cometh the visitation of the Holy Ghost, which Comforter filleth with hope and perfect love, which love endureth by diligence unto prayer, until the end shall come, when all the saints shall dwell with God.\n",
      "Similarity Score: 0.4886363637079571\n",
      "\n",
      "\n",
      "Book: 3 Nephi, Chapter: 28, Verse: 11\n",
      "And the Holy Ghost beareth record of the Father and me; and the Father giveth the Holy Ghost unto the children of men, because of me.\n",
      "Similarity Score: 0.48280477160277774\n",
      "\n",
      "\n",
      "Book: Alma, Chapter: 31, Verse: 15\n",
      "Holy, holy God; we believe that thou art God, and we believe that thou art holy, and that thou wast a spirit, and that thou art a spirit, and that thou wilt be a spirit forever.\n",
      "Similarity Score: 0.4739051235344336\n",
      "\n",
      "\n",
      "Book: Moroni, Chapter: 10, Verse: 5\n",
      "And by the power of the Holy Ghost ye may know the truth of all things.\n",
      "Similarity Score: 0.4712960495974035\n",
      "\n",
      "\n",
      "Book: Helaman, Chapter: 5, Verse: 45\n",
      "And behold, the Holy Spirit of God did come down from heaven, and did enter into their hearts, and they were filled as if with fire, and they could speak forth marvelous words.\n",
      "Similarity Score: 0.463939903076234\n",
      "\n",
      "\n",
      "Book: 3 Nephi, Chapter: 19, Verse: 20\n",
      "Father, I thank thee that thou hast given the Holy Ghost unto these whom I have chosen; and it is because of their belief in me that I have chosen them out of the world.\n",
      "Similarity Score: 0.46371120701463747\n",
      "\n",
      "\n",
      "Book: 3 Nephi, Chapter: 12, Verse: 6\n",
      "And blessed are all they who do hunger and thirst after righteousness, for they shall be filled with the Holy Ghost.\n",
      "Similarity Score: 0.460626186834206\n",
      "\n",
      "\n",
      "Book: 1 Nephi, Chapter: 10, Verse: 22\n",
      "And the Holy Ghost giveth authority that I should speak these things, and deny them not.\n",
      "Similarity Score: 0.44448086165612555\n",
      "\n",
      "\n",
      "Book: 3 Nephi, Chapter: 19, Verse: 22\n",
      "Father, thou hast given them the Holy Ghost because they believe in me; and thou seest that they believe in me because thou hearest them, and they pray unto me; and they pray unto me because I am with them.\n",
      "Similarity Score: 0.44073575041182955\n",
      "\n",
      "\n",
      "Book: 3 Nephi, Chapter: 19, Verse: 13\n",
      "And it came to pass when they were all baptized and had come up out of the water, the Holy Ghost did fall upon them, and they were filled with the Holy Ghost and with fire.\n",
      "Similarity Score: 0.44062565918908403\n",
      "\n",
      "\n",
      "Book: Alma, Chapter: 9, Verse: 21\n",
      "Having been visited by the Spirit of God; having conversed with angels, and having been spoken unto by the voice of the Lord; and having the spirit of prophecy, and the spirit of revelation, and also many gifts, the gift of speaking with tongues, and the gift of preaching, and the gift of the Holy Ghost, and the gift of translation;\n",
      "Similarity Score: 0.43144059424845993\n",
      "\n",
      "\n",
      "Book: Alma, Chapter: 18, Verse: 35\n",
      "And a portion of that Spirit dwelleth in me, which giveth me knowledge, and also power according to my faith and desires which are in God.\n",
      "Similarity Score: 0.4297036446831111\n",
      "\n",
      "\n",
      "Book: 3 Nephi, Chapter: 19, Verse: 21\n",
      "Father, I pray thee that thou wilt give the Holy Ghost unto all them that shall believe in their words.\n",
      "Similarity Score: 0.4222793180125485\n",
      "\n",
      "\n",
      "Book: 2 Nephi, Chapter: 31, Verse: 13\n",
      "Wherefore, my beloved brethren, I know that if ye shall follow the Son, with full purpose of heart, acting no hypocrisy and no deception before God, but with real intent, repenting of your sins, witnessing unto the Father that ye are willing to take upon you the name of Christ, by baptism—yea, by following your Lord and your Savior down into the water, according to his word, behold, then shall ye receive the Holy Ghost; yea, then cometh the baptism of fire and of the Holy Ghost; and then can ye speak with the tongue of angels, and shout praises unto the Holy One of Israel.\n",
      "Similarity Score: 0.4201317468469636\n",
      "\n",
      "\n",
      "Book: Alma, Chapter: 11, Verse: 43\n",
      "The spirit and the body shall be reunited again in its perfect form; both limb and joint shall be restored to its proper frame, even as we now are at this time; and we shall be brought to stand before God, knowing even as we know now, and have a bright recollection of all our guilt.\n",
      "Similarity Score: 0.4181058447012169\n",
      "\n",
      "\n",
      "Book: Alma, Chapter: 5, Verse: 46\n",
      "Behold, I say unto you they are made known unto me by the Holy Spirit of God. Behold, I have fasted and prayed many days that I might know these things of myself. And now I do know of myself that they are true; for the Lord God hath made them manifest unto me by his Holy Spirit; and this is the spirit of revelation which is in me.\n",
      "Similarity Score: 0.4162436801647752\n",
      "\n",
      "\n",
      "Book: 2 Nephi, Chapter: 31, Verse: 8\n",
      "Wherefore, after he was baptized with water the Holy Ghost descended upon him in the form of a dove.\n",
      "Similarity Score: 0.41546284932292465\n",
      "\n",
      "\n",
      "Book: 2 Nephi, Chapter: 21, Verse: 2\n",
      "And the Spirit of the Lord shall rest upon him, the spirit of wisdom and understanding, the spirit of counsel and might, the spirit of knowledge and of the fear of the Lord;\n",
      "Similarity Score: 0.41516544955471946\n",
      "\n",
      "\n",
      "Book: Ether, Chapter: 4, Verse: 11\n",
      "But he that believeth these things which I have spoken, him will I visit with the manifestations of my Spirit, and he shall know and bear record. For because of my Spirit he shall know that these things are true; for it persuadeth men to do good.\n",
      "Similarity Score: 0.4112179777912942\n",
      "\n",
      "\n",
      "Book: Alma, Chapter: 34, Verse: 38\n",
      "That ye contend no more against the Holy Ghost, but that ye receive it, and take upon you the name of Christ; that ye humble yourselves even to the dust, and worship God, in whatsoever place ye may be in, in spirit and in truth; and that ye live in thanksgiving daily, for the many mercies and blessings which he doth bestow upon you.\n",
      "Similarity Score: 0.41026496520550404\n",
      "\n",
      "\n"
     ]
    },
    {
     "name": "stderr",
     "output_type": "stream",
     "text": [
      "/var/folders/yr/zvls53ps68gbn8hkxfbqj16c0000gn/T/ipykernel_43525/505626587.py:9: FutureWarning: Series.__getitem__ treating keys as positions is deprecated. In a future version, integer keys will always be treated as labels (consistent with DataFrame behavior). To access a value by position, use `ser.iloc[pos]`\n",
      "  print(f\"Book: {result[1]}, Chapter: {result[2]}, Verse: {result[3]}\")\n",
      "/var/folders/yr/zvls53ps68gbn8hkxfbqj16c0000gn/T/ipykernel_43525/505626587.py:10: FutureWarning: Series.__getitem__ treating keys as positions is deprecated. In a future version, integer keys will always be treated as labels (consistent with DataFrame behavior). To access a value by position, use `ser.iloc[pos]`\n",
      "  print(f\"{result[4]}\")\n"
     ]
    }
   ],
   "source": [
    "input_text = \"the holy ghost makes us feel good feelings\"\n",
    "find_most_similar_verses(input_text, topk=20, comparison_embeddings=normed_small_embeddings, df=df)"
   ]
  },
  {
   "cell_type": "code",
   "execution_count": null,
   "id": "24a045eb-67ec-4373-83ab-e07b7d584986",
   "metadata": {},
   "outputs": [],
   "source": [
    "# Example of how to use the function\n",
    "# Assuming 'df' is your dataframe loaded with embeddings\n",
    "input_text = \"I make a record in the language of my fathers\"\n",
    "top_k_verses = find_most_similar_verses(df, input_text, top_k=3)\n",
    "\n",
    "# Print the results\n",
    "for result in top_k_verses:\n",
    "    print(f\"Book: {result[0]}, Chapter: {result[1]}, Verse: {result[2]}\")\n",
    "    print(f\"Text: {result[3]}\")\n",
    "    print(f\"Similarity Score: {result[4]}\")\n",
    "    print(\"\\n\")"
   ]
  },
  {
   "cell_type": "code",
   "execution_count": 11,
   "id": "1e3ae026-1f68-4f60-9685-944df3fd0471",
   "metadata": {},
   "outputs": [],
   "source": [
    "# Function to compute cosine similarity\n",
    "def cosine_similarity(embedding1, embedding2):\n",
    "    return 1 - cosine(embedding1, embedding2)\n",
    "\n",
    "# Function to find the top-k most similar verses\n",
    "def find_most_similar_verses(df, input_text, top_k=5):\n",
    "    # Get the embedding for the input text\n",
    "    new_embedding = get_embedding(input_text)\n",
    "    \n",
    "    # Initialize a list to store the results\n",
    "    similarities = []\n",
    "    \n",
    "    # Iterate through the dataframe and calculate cosine similarity\n",
    "    for idx, row in df.iterrows():\n",
    "        print(row['small\n",
    "        verse_embedding = np.array(row['small_embedding'])\n",
    "        similarity = cosine_similarity(new_embedding, verse_embedding)\n",
    "        similarities.append((row['Book'], row['Chapter'], row['Verse Number'], row['Verse Text'], similarity))\n",
    "    \n",
    "    # Sort the results based on similarity\n",
    "    sorted_similarities = sorted(similarities, key=lambda x: x[4], reverse=True)\n",
    "    \n",
    "    # Return the top-k most similar verses\n",
    "    return sorted_similarities[:top_k]"
   ]
  },
  {
   "cell_type": "code",
   "execution_count": null,
   "id": "bb4a0809-841a-4f1b-9c35-35e731b41821",
   "metadata": {},
   "outputs": [],
   "source": [
    "for idx, row in df.iterrows():\n",
    "    verse_embedding = np.array(row['small_embedding'])\n",
    "    print(verse_embedding)"
   ]
  },
  {
   "cell_type": "code",
   "execution_count": 12,
   "id": "c2c890e3-535e-4421-b644-21bad1fe3511",
   "metadata": {},
   "outputs": [
    {
     "ename": "ValueError",
     "evalue": "Input vector should be 1-D.",
     "output_type": "error",
     "traceback": [
      "\u001b[0;31m---------------------------------------------------------------------------\u001b[0m",
      "\u001b[0;31mValueError\u001b[0m                                Traceback (most recent call last)",
      "Cell \u001b[0;32mIn[12], line 4\u001b[0m\n\u001b[1;32m      1\u001b[0m \u001b[38;5;66;03m# Example of how to use the function\u001b[39;00m\n\u001b[1;32m      2\u001b[0m \u001b[38;5;66;03m# Assuming 'df' is your dataframe loaded with embeddings\u001b[39;00m\n\u001b[1;32m      3\u001b[0m input_text \u001b[38;5;241m=\u001b[39m \u001b[38;5;124m\"\u001b[39m\u001b[38;5;124mI make a record in the language of my fathers\u001b[39m\u001b[38;5;124m\"\u001b[39m\n\u001b[0;32m----> 4\u001b[0m top_k_verses \u001b[38;5;241m=\u001b[39m find_most_similar_verses(df, input_text, top_k\u001b[38;5;241m=\u001b[39m\u001b[38;5;241m3\u001b[39m)\n\u001b[1;32m      6\u001b[0m \u001b[38;5;66;03m# Print the results\u001b[39;00m\n\u001b[1;32m      7\u001b[0m \u001b[38;5;28;01mfor\u001b[39;00m result \u001b[38;5;129;01min\u001b[39;00m top_k_verses:\n",
      "Cell \u001b[0;32mIn[11], line 21\u001b[0m, in \u001b[0;36mfind_most_similar_verses\u001b[0;34m(df, input_text, top_k)\u001b[0m\n\u001b[1;32m     19\u001b[0m \u001b[38;5;28;01mfor\u001b[39;00m idx, row \u001b[38;5;129;01min\u001b[39;00m df\u001b[38;5;241m.\u001b[39miterrows():\n\u001b[1;32m     20\u001b[0m     verse_embedding \u001b[38;5;241m=\u001b[39m np\u001b[38;5;241m.\u001b[39marray(row[\u001b[38;5;124m'\u001b[39m\u001b[38;5;124msmall_embedding\u001b[39m\u001b[38;5;124m'\u001b[39m])\n\u001b[0;32m---> 21\u001b[0m     similarity \u001b[38;5;241m=\u001b[39m cosine_similarity(new_embedding, verse_embedding)\n\u001b[1;32m     22\u001b[0m     similarities\u001b[38;5;241m.\u001b[39mappend((row[\u001b[38;5;124m'\u001b[39m\u001b[38;5;124mBook\u001b[39m\u001b[38;5;124m'\u001b[39m], row[\u001b[38;5;124m'\u001b[39m\u001b[38;5;124mChapter\u001b[39m\u001b[38;5;124m'\u001b[39m], row[\u001b[38;5;124m'\u001b[39m\u001b[38;5;124mVerse Number\u001b[39m\u001b[38;5;124m'\u001b[39m], row[\u001b[38;5;124m'\u001b[39m\u001b[38;5;124mVerse Text\u001b[39m\u001b[38;5;124m'\u001b[39m], similarity))\n\u001b[1;32m     24\u001b[0m \u001b[38;5;66;03m# Sort the results based on similarity\u001b[39;00m\n",
      "Cell \u001b[0;32mIn[11], line 8\u001b[0m, in \u001b[0;36mcosine_similarity\u001b[0;34m(embedding1, embedding2)\u001b[0m\n\u001b[1;32m      7\u001b[0m \u001b[38;5;28;01mdef\u001b[39;00m \u001b[38;5;21mcosine_similarity\u001b[39m(embedding1, embedding2):\n\u001b[0;32m----> 8\u001b[0m     \u001b[38;5;28;01mreturn\u001b[39;00m \u001b[38;5;241m1\u001b[39m \u001b[38;5;241m-\u001b[39m cosine(embedding1, embedding2)\n",
      "File \u001b[0;32m/opt/anaconda3/envs/scripture_study/lib/python3.11/site-packages/scipy/spatial/distance.py:694\u001b[0m, in \u001b[0;36mcosine\u001b[0;34m(u, v, w)\u001b[0m\n\u001b[1;32m    653\u001b[0m \u001b[38;5;250m\u001b[39m\u001b[38;5;124;03m\"\"\"\u001b[39;00m\n\u001b[1;32m    654\u001b[0m \u001b[38;5;124;03mCompute the Cosine distance between 1-D arrays.\u001b[39;00m\n\u001b[1;32m    655\u001b[0m \n\u001b[0;32m   (...)\u001b[0m\n\u001b[1;32m    690\u001b[0m \n\u001b[1;32m    691\u001b[0m \u001b[38;5;124;03m\"\"\"\u001b[39;00m\n\u001b[1;32m    692\u001b[0m \u001b[38;5;66;03m# cosine distance is also referred to as 'uncentered correlation',\u001b[39;00m\n\u001b[1;32m    693\u001b[0m \u001b[38;5;66;03m#   or 'reflective correlation'\u001b[39;00m\n\u001b[0;32m--> 694\u001b[0m \u001b[38;5;28;01mreturn\u001b[39;00m correlation(u, v, w\u001b[38;5;241m=\u001b[39mw, centered\u001b[38;5;241m=\u001b[39m\u001b[38;5;28;01mFalse\u001b[39;00m)\n",
      "File \u001b[0;32m/opt/anaconda3/envs/scripture_study/lib/python3.11/site-packages/scipy/spatial/distance.py:626\u001b[0m, in \u001b[0;36mcorrelation\u001b[0;34m(u, v, w, centered)\u001b[0m\n\u001b[1;32m    576\u001b[0m \u001b[38;5;250m\u001b[39m\u001b[38;5;124;03m\"\"\"\u001b[39;00m\n\u001b[1;32m    577\u001b[0m \u001b[38;5;124;03mCompute the correlation distance between two 1-D arrays.\u001b[39;00m\n\u001b[1;32m    578\u001b[0m \n\u001b[0;32m   (...)\u001b[0m\n\u001b[1;32m    623\u001b[0m \u001b[38;5;124;03m0.5\u001b[39;00m\n\u001b[1;32m    624\u001b[0m \u001b[38;5;124;03m\"\"\"\u001b[39;00m\n\u001b[1;32m    625\u001b[0m u \u001b[38;5;241m=\u001b[39m _validate_vector(u)\n\u001b[0;32m--> 626\u001b[0m v \u001b[38;5;241m=\u001b[39m _validate_vector(v)\n\u001b[1;32m    627\u001b[0m \u001b[38;5;28;01mif\u001b[39;00m w \u001b[38;5;129;01mis\u001b[39;00m \u001b[38;5;129;01mnot\u001b[39;00m \u001b[38;5;28;01mNone\u001b[39;00m:\n\u001b[1;32m    628\u001b[0m     w \u001b[38;5;241m=\u001b[39m _validate_weights(w)\n",
      "File \u001b[0;32m/opt/anaconda3/envs/scripture_study/lib/python3.11/site-packages/scipy/spatial/distance.py:302\u001b[0m, in \u001b[0;36m_validate_vector\u001b[0;34m(u, dtype)\u001b[0m\n\u001b[1;32m    300\u001b[0m \u001b[38;5;28;01mif\u001b[39;00m u\u001b[38;5;241m.\u001b[39mndim \u001b[38;5;241m==\u001b[39m \u001b[38;5;241m1\u001b[39m:\n\u001b[1;32m    301\u001b[0m     \u001b[38;5;28;01mreturn\u001b[39;00m u\n\u001b[0;32m--> 302\u001b[0m \u001b[38;5;28;01mraise\u001b[39;00m \u001b[38;5;167;01mValueError\u001b[39;00m(\u001b[38;5;124m\"\u001b[39m\u001b[38;5;124mInput vector should be 1-D.\u001b[39m\u001b[38;5;124m\"\u001b[39m)\n",
      "\u001b[0;31mValueError\u001b[0m: Input vector should be 1-D."
     ]
    }
   ],
   "source": [
    "# Example of how to use the function\n",
    "# Assuming 'df' is your dataframe loaded with embeddings\n",
    "input_text = \"I make a record in the language of my fathers\"\n",
    "top_k_verses = find_most_similar_verses(df, input_text, top_k=3)\n",
    "\n",
    "# Print the results\n",
    "for result in top_k_verses:\n",
    "    print(f\"Book: {result[0]}, Chapter: {result[1]}, Verse: {result[2]}\")\n",
    "    print(f\"Text: {result[3]}\")\n",
    "    print(f\"Similarity Score: {result[4]}\")\n",
    "    print(\"\\n\")"
   ]
  },
  {
   "cell_type": "code",
   "execution_count": null,
   "id": "b1f6d91d-7752-44bd-9814-d45fcb49370e",
   "metadata": {},
   "outputs": [],
   "source": []
  }
 ],
 "metadata": {
  "kernelspec": {
   "display_name": "Python 3 (ipykernel)",
   "language": "python",
   "name": "python3"
  },
  "language_info": {
   "codemirror_mode": {
    "name": "ipython",
    "version": 3
   },
   "file_extension": ".py",
   "mimetype": "text/x-python",
   "name": "python",
   "nbconvert_exporter": "python",
   "pygments_lexer": "ipython3",
   "version": "3.11.9"
  }
 },
 "nbformat": 4,
 "nbformat_minor": 5
}
