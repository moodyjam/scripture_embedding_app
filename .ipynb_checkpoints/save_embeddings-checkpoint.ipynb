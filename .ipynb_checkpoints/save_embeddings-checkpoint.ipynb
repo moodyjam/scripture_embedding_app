{
 "cells": [
  {
   "cell_type": "code",
   "execution_count": 8,
   "id": "d610601f-de60-463e-a20e-fe8060735c4a",
   "metadata": {},
   "outputs": [],
   "source": [
    "import openai\n",
    "from openai import OpenAI\n",
    "import pandas as pd\n",
    "import time\n",
    "from tqdm import tqdm\n",
    "client = OpenAI()\n",
    "\n",
    "def get_embedding(text, model=\"text-embedding-3-small\"):\n",
    "   text = text.replace(\"\\n\", \" \")\n",
    "   return client.embeddings.create(input = [text], model=model).data[0].embedding"
   ]
  },
  {
   "cell_type": "code",
   "execution_count": 11,
   "id": "17b7dbb7-49fd-4c5a-8040-b769d5b66f24",
   "metadata": {},
   "outputs": [
    {
     "name": "stdout",
     "output_type": "stream",
     "text": [
      "\n",
      "Generating embeddings for the Old Testament...\n"
     ]
    },
    {
     "name": "stderr",
     "output_type": "stream",
     "text": [
      "  0%|                                                                                                         | 0/217 [00:01<?, ?it/s]IOPub data rate exceeded.\n",
      "The Jupyter server will temporarily stop sending output\n",
      "to the client in order to avoid crashing it.\n",
      "To change this limit, set the config variable\n",
      "`--ServerApp.iopub_data_rate_limit`.\n",
      "\n",
      "Current values:\n",
      "ServerApp.iopub_data_rate_limit=1000000.0 (bytes/sec)\n",
      "ServerApp.rate_limit_window=3.0 (secs)\n",
      "\n",
      "\n"
     ]
    },
    {
     "ename": "TypeError",
     "evalue": "'CreateEmbeddingResponse' object is not subscriptable",
     "output_type": "error",
     "traceback": [
      "\u001b[0;31m---------------------------------------------------------------------------\u001b[0m",
      "\u001b[0;31mTypeError\u001b[0m                                 Traceback (most recent call last)",
      "Cell \u001b[0;32mIn[11], line 41\u001b[0m\n\u001b[1;32m     38\u001b[0m     \u001b[38;5;28;01mreturn\u001b[39;00m embeddings\n\u001b[1;32m     40\u001b[0m \u001b[38;5;66;03m# Generate embeddings for the Old Testament\u001b[39;00m\n\u001b[0;32m---> 41\u001b[0m old_testament_embeddings \u001b[38;5;241m=\u001b[39m generate_embeddings(old_testament_df, \u001b[38;5;124m\"\u001b[39m\u001b[38;5;124mOld Testament\u001b[39m\u001b[38;5;124m\"\u001b[39m)\n\u001b[1;32m     43\u001b[0m \u001b[38;5;66;03m# Convert to NumPy array and save\u001b[39;00m\n\u001b[1;32m     44\u001b[0m old_embeddings_array \u001b[38;5;241m=\u001b[39m np\u001b[38;5;241m.\u001b[39marray(old_testament_embeddings)\n",
      "Cell \u001b[0;32mIn[11], line 23\u001b[0m, in \u001b[0;36mgenerate_embeddings\u001b[0;34m(df, testament_name)\u001b[0m\n\u001b[1;32m     21\u001b[0m \u001b[38;5;28mprint\u001b[39m(response)\n\u001b[1;32m     22\u001b[0m \u001b[38;5;66;03m# response = client.Embedding.create(input=batch_verses, model=\"text-embedding-ada-002\")\u001b[39;00m\n\u001b[0;32m---> 23\u001b[0m batch_embeddings \u001b[38;5;241m=\u001b[39m [data_point[\u001b[38;5;124m'\u001b[39m\u001b[38;5;124membedding\u001b[39m\u001b[38;5;124m'\u001b[39m] \u001b[38;5;28;01mfor\u001b[39;00m data_point \u001b[38;5;129;01min\u001b[39;00m response[\u001b[38;5;124m'\u001b[39m\u001b[38;5;124mdata\u001b[39m\u001b[38;5;124m'\u001b[39m]]\n\u001b[1;32m     24\u001b[0m embeddings\u001b[38;5;241m.\u001b[39mextend(batch_embeddings)\n\u001b[1;32m     25\u001b[0m time\u001b[38;5;241m.\u001b[39msleep(\u001b[38;5;241m0.5\u001b[39m)  \u001b[38;5;66;03m# Pause to respect rate limits\u001b[39;00m\n",
      "\u001b[0;31mTypeError\u001b[0m: 'CreateEmbeddingResponse' object is not subscriptable"
     ]
    }
   ],
   "source": [
    "# Read the CSV files\n",
    "old_testament_df = pd.read_csv('old_testament.csv')\n",
    "new_testament_df = pd.read_csv('new_testament.csv')\n",
    "\n",
    "# Initialize batch parameters\n",
    "batch_size = 1\n",
    "max_retries = 5\n",
    "\n",
    "# Function to generate embeddings for a given DataFrame\n",
    "def generate_embeddings(df, testament_name):\n",
    "    verses = df['Verse Text'].tolist()\n",
    "    embeddings = []\n",
    "    print(f\"\\nGenerating embeddings for the {testament_name}...\")\n",
    "    for i in tqdm(range(0, len(verses), batch_size)):\n",
    "        batch_verses = verses[i:i+batch_size]\n",
    "        batch_verses = [text.replace(\"\\n\", \" \") for text in batch_verses]\n",
    "        retries = 0\n",
    "        while True:\n",
    "            try:\n",
    "                response = client.embeddings.create(input = batch_verses, model=\"text-embedding-3-small\").data[0].embedding\n",
    "                # print(response)\n",
    "                # response = client.Embedding.create(input=batch_verses, model=\"text-embedding-ada-002\")\n",
    "                # batch_embeddings = [data_point['embedding'] for data_point in response['data']]\n",
    "                embeddings.extend(response)\n",
    "                # time.sleep(0.5)  # Pause to respect rate limits\n",
    "                break\n",
    "            except openai.RateLimitError:\n",
    "                retries += 1\n",
    "                if retries > max_retries:\n",
    "                    print(f\"Exceeded maximum retries for batch starting at index {i}.\")\n",
    "                    raise\n",
    "                wait_time = 2 ** retries\n",
    "                print(f\"Rate limit error. Retrying in {wait_time} seconds...\")\n",
    "                time.sleep(wait_time)\n",
    "            except Exception as e:\n",
    "                print(f\"An unexpected error occurred: {e}\")\n",
    "                raise\n",
    "    return embeddings\n",
    "\n",
    "# Generate embeddings for the Old Testament\n",
    "old_testament_embeddings = generate_embeddings(old_testament_df, \"Old Testament\")\n",
    "\n",
    "# Convert to NumPy array and save\n",
    "old_embeddings_array = np.array(old_testament_embeddings)\n",
    "np.save('old_testament_embeddings.npy', old_embeddings_array)\n",
    "print(\"\\nOld Testament embeddings saved to 'old_testament_embeddings.npy'.\")\n",
    "\n",
    "# Generate embeddings for the New Testament\n",
    "new_testament_embeddings = generate_embeddings(new_testament_df, \"New Testament\")\n",
    "\n",
    "# Convert to NumPy array and save\n",
    "new_embeddings_array = np.array(new_testament_embeddings)\n",
    "np.save('new_testament_embeddings.npy', new_embeddings_array)\n",
    "print(\"\\nNew Testament embeddings saved to 'new_testament_embeddings.npy'.\")"
   ]
  },
  {
   "cell_type": "code",
   "execution_count": null,
   "id": "466d9340-8ba8-48c8-bef5-1c6e12d0adae",
   "metadata": {},
   "outputs": [],
   "source": []
  },
  {
   "cell_type": "code",
   "execution_count": null,
   "id": "283db856-3513-460a-b8bd-2f1e42f4c7db",
   "metadata": {},
   "outputs": [],
   "source": []
  }
 ],
 "metadata": {
  "kernelspec": {
   "display_name": "Python 3 (ipykernel)",
   "language": "python",
   "name": "python3"
  },
  "language_info": {
   "codemirror_mode": {
    "name": "ipython",
    "version": 3
   },
   "file_extension": ".py",
   "mimetype": "text/x-python",
   "name": "python",
   "nbconvert_exporter": "python",
   "pygments_lexer": "ipython3",
   "version": "3.11.9"
  }
 },
 "nbformat": 4,
 "nbformat_minor": 5
}
