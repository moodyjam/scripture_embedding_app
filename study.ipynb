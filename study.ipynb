{
 "cells": [
  {
   "cell_type": "code",
   "execution_count": 1,
   "id": "7ff068d0-8bce-40f5-91a3-6e4308046ad1",
   "metadata": {},
   "outputs": [],
   "source": [
    "from openai import OpenAI\n",
    "import pandas as pd\n",
    "import time\n",
    "import numpy as np\n",
    "from scipy.spatial.distance import cosine\n",
    "import pandas as pd\n",
    "import ast\n",
    "\n",
    "client = OpenAI()\n",
    "\n",
    "def get_embedding(text, model=\"text-embedding-3-small\"):\n",
    "   text = text.replace(\"\\n\", \" \")\n",
    "   return client.embeddings.create(input = [text], model=model).data[0].embedding"
   ]
  },
  {
   "cell_type": "code",
   "execution_count": 2,
   "id": "eb804804-9ce4-4635-b600-a3a188f6cfb0",
   "metadata": {},
   "outputs": [
    {
     "name": "stdout",
     "output_type": "stream",
     "text": [
      "   Unnamed: 0     Book  Chapter  Verse Number  \\\n",
      "0           0  1 Nephi        1             1   \n",
      "1           1  1 Nephi        1             2   \n",
      "2           2  1 Nephi        1             3   \n",
      "3           3  1 Nephi        1             4   \n",
      "4           4  1 Nephi        1             5   \n",
      "\n",
      "                                          Verse Text  \\\n",
      "0  I, Nephi, having been born of goodly parents, ...   \n",
      "1  Yea, I make a record in the language of my fat...   \n",
      "2  And I know that the record which I make is tru...   \n",
      "3  For it came to pass in the commencement of the...   \n",
      "4  Wherefore it came to pass that my father, Lehi...   \n",
      "\n",
      "                                     small_embedding  \n",
      "0  [0.022863460704684258, -0.0034764057490974665,...  \n",
      "1  [0.014547476544976234, 0.026577120646834373, 0...  \n",
      "2  [0.02322634868323803, 0.01963120698928833, 0.0...  \n",
      "3  [0.0457134023308754, 0.023395659402012825, 0.0...  \n",
      "4  [0.027752844616770744, -0.02123965509235859, -...  \n"
     ]
    }
   ],
   "source": [
    "# Load CSV into a DataFrame\n",
    "df = pd.read_csv('book_of_mormon_with_embeddings.csv')\n",
    "\n",
    "# Display the first few rows of the DataFrame\n",
    "print(df.head())"
   ]
  },
  {
   "cell_type": "markdown",
   "id": "73c84309-4549-4493-b6f1-7e40ac8430b9",
   "metadata": {},
   "source": [
    "## Convert the embeddings to a large numpy array"
   ]
  },
  {
   "cell_type": "code",
   "execution_count": 3,
   "id": "288f1839-7ba6-4d9f-8a26-ae7700c61d7b",
   "metadata": {},
   "outputs": [
    {
     "data": {
      "text/plain": [
       "(6549, 1536)"
      ]
     },
     "execution_count": 3,
     "metadata": {},
     "output_type": "execute_result"
    }
   ],
   "source": [
    "df['small_embedding'] = df['small_embedding'].apply(ast.literal_eval)\n",
    "df['small_embedding'] = df['small_embedding'].apply(np.array)\n",
    "small_embeddings = np.vstack(df[\"small_embedding\"])\n",
    "normed_small_embeddings = small_embeddings / np.linalg.norm(small_embeddings, axis=-1, keepdims=True)\n",
    "normed_small_embeddings.shape"
   ]
  },
  {
   "cell_type": "code",
   "execution_count": 8,
   "id": "38c03c02-04fb-4c4b-a035-89cec8e48222",
   "metadata": {},
   "outputs": [],
   "source": [
    "np.save(\"normed_small_embeddings_bom.npy\", normed_small_embeddings)"
   ]
  },
  {
   "cell_type": "code",
   "execution_count": 9,
   "id": "df3c7bd7-33f6-442e-bde3-37b7f8e0f450",
   "metadata": {},
   "outputs": [
    {
     "data": {
      "text/plain": [
       "array([[ 0.02286346, -0.00347641,  0.03435071, ..., -0.03299346,\n",
       "        -0.02166661, -0.02224653],\n",
       "       [ 0.01454748,  0.02657712,  0.01834966, ..., -0.0230547 ,\n",
       "        -0.00166107, -0.03130759],\n",
       "       [ 0.02322635,  0.01963121,  0.01236062, ..., -0.002928  ,\n",
       "        -0.00654785, -0.03301107],\n",
       "       ...,\n",
       "       [ 0.01357608,  0.03861549, -0.0345573 , ...,  0.0188057 ,\n",
       "        -0.02581338,  0.00472234],\n",
       "       [ 0.03801824,  0.05088155, -0.02938144, ...,  0.01178116,\n",
       "        -0.05725195, -0.00396874],\n",
       "       [ 0.03645878, -0.02000522,  0.03394605, ...,  0.0200173 ,\n",
       "         0.02807495, -0.01213481]])"
      ]
     },
     "execution_count": 9,
     "metadata": {},
     "output_type": "execute_result"
    }
   ],
   "source": [
    "np.load(\"normed_small_embeddings_bom.npy\")"
   ]
  },
  {
   "cell_type": "code",
   "execution_count": 4,
   "id": "80e51c88-5da2-42b3-8243-d6a681cd9304",
   "metadata": {},
   "outputs": [],
   "source": [
    "normed_small_embeddings = small_embeddings / np.linalg.norm(small_embeddings, axis=-1, keepdims=True)"
   ]
  },
  {
   "cell_type": "markdown",
   "id": "f82e950e-67eb-4af4-ac7b-83edbe0fb583",
   "metadata": {},
   "source": [
    "## How to use the function"
   ]
  },
  {
   "cell_type": "code",
   "execution_count": 5,
   "id": "2c1e6020-b201-488d-b08f-4f05f0d0c5e7",
   "metadata": {},
   "outputs": [],
   "source": [
    "def find_most_similar_verses(input_text, topk=10, comparison_embeddings=None, df=None):\n",
    "    new_embedding = get_embedding(input_text)\n",
    "    similarities = normed_small_embeddings@(np.array(new_embedding) / np.linalg.norm(new_embedding))\n",
    "    sorted_similarities = sorted(similarities, reverse=True)\n",
    "    sorted_indices = np.argsort(similarities)[::-1][:topk]\n",
    "\n",
    "    for idx in sorted_indices:\n",
    "        result = df.iloc[idx]\n",
    "        print(f\"Book: {result[1]}, Chapter: {result[2]}, Verse: {result[3]}\")\n",
    "        print(f\"{result[4]}\")\n",
    "        print(f\"Similarity Score: {similarities[idx]}\")\n",
    "        print(\"\\n\")\n",
    "    "
   ]
  },
  {
   "cell_type": "code",
   "execution_count": 16,
   "id": "22c21b17-c003-4236-87cb-edf3f34a1e32",
   "metadata": {},
   "outputs": [
    {
     "name": "stdout",
     "output_type": "stream",
     "text": [
      "Book: 3 Nephi, Chapter: 11, Verse: 10\n",
      "Behold, I am Jesus Christ, whom the prophets testified shall come into the world.\n",
      "Similarity Score: 0.4873034943014518\n",
      "\n",
      "\n",
      "Book: 3 Nephi, Chapter: 9, Verse: 15\n",
      "Behold, I am Jesus Christ the Son of God. I created the heavens and the earth, and all things that in them are. I was with the Father from the beginning. I am in the Father, and the Father in me; and in me hath the Father glorified his name.\n",
      "Similarity Score: 0.4446989120458757\n",
      "\n",
      "\n",
      "Book: Ether, Chapter: 3, Verse: 14\n",
      "Behold, I am he who was prepared from the foundation of the world to redeem my people. Behold, I am Jesus Christ. I am the Father and the Son. In me shall all mankind have life, and that eternally, even they who shall believe on my name; and they shall become my sons and my daughters.\n",
      "Similarity Score: 0.43545436099258766\n",
      "\n",
      "\n",
      "Book: 2 Nephi, Chapter: 25, Verse: 29\n",
      "And now behold, I say unto you that the right way is to believe in Christ, and deny him not; and Christ is the Holy One of Israel; wherefore ye must bow down before him, and worship him with all your might, mind, and strength, and your whole soul; and if ye do this ye shall in nowise be cast out.\n",
      "Similarity Score: 0.4246984422197225\n",
      "\n",
      "\n",
      "Book: Ether, Chapter: 4, Verse: 2\n",
      "And after Christ truly had showed himself unto his people he commanded that they should be made manifest.\n",
      "Similarity Score: 0.4246465856094107\n",
      "\n",
      "\n",
      "Book: Mormon, Chapter: 9, Verse: 3\n",
      "Then will ye longer deny the Christ, or can ye behold the Lamb of God? Do ye suppose that ye shall dwell with him under a consciousness of your guilt? Do ye suppose that ye could be happy to dwell with that holy Being, when your souls are racked with a consciousness of guilt that ye have ever abused his laws?\n",
      "Similarity Score: 0.4135150904357334\n",
      "\n",
      "\n",
      "Book: Alma, Chapter: 39, Verse: 15\n",
      "And now, my son, I would say somewhat unto you concerning the coming of Christ. Behold, I say unto you, that it is he that surely shall come to take away the sins of the world; yea, he cometh to declare glad tidings of salvation unto his people.\n",
      "Similarity Score: 0.412648364502044\n",
      "\n",
      "\n",
      "Book: Mosiah, Chapter: 16, Verse: 13\n",
      "And now, ought ye not to tremble and repent of your sins, and remember that only in and through Christ ye can be saved?\n",
      "Similarity Score: 0.4033344126741766\n",
      "\n",
      "\n",
      "Book: Omni, Chapter: 1, Verse: 26\n",
      "And now, my beloved brethren, I would that ye should come unto Christ, who is the Holy One of Israel, and partake of his salvation, and the power of his redemption. Yea, come unto him, and offer your whole souls as an offering unto him, and continue in fasting and praying, and endure to the end; and as the Lord liveth ye will be saved.\n",
      "Similarity Score: 0.40229934306476134\n",
      "\n",
      "\n",
      "Book: Alma, Chapter: 45, Verse: 4\n",
      "And Alma said again: Believest thou in Jesus Christ, who shall come?\n",
      "Similarity Score: 0.4015138284754269\n",
      "\n",
      "\n",
      "Book: Mosiah, Chapter: 3, Verse: 17\n",
      "And moreover, I say unto you, that there shall be no other name given nor any other way nor means whereby salvation can come unto the children of men, only in and through the name of Christ, the Lord Omnipotent.\n",
      "Similarity Score: 0.3975114740788178\n",
      "\n",
      "\n",
      "Book: Alma, Chapter: 19, Verse: 13\n",
      "For as sure as thou livest, behold, I have seen my Redeemer; and he shall come forth, and be born of a woman, and he shall redeem all mankind who believe on his name. Now, when he had said these words, his heart was swollen within him, and he sunk again with joy; and the queen also sunk down, being overpowered by the Spirit.\n",
      "Similarity Score: 0.3942997360420659\n",
      "\n",
      "\n",
      "Book: Jacob, Chapter: 7, Verse: 9\n",
      "And I said unto him: Deniest thou the Christ who shall come? And he said: If there should be a Christ, I would not deny him; but I know that there is no Christ, neither has been, nor ever will be.\n",
      "Similarity Score: 0.3926754481357485\n",
      "\n",
      "\n",
      "Book: Alma, Chapter: 30, Verse: 39\n",
      "Now Alma said unto him: Will ye deny again that there is a God, and also deny the Christ? For behold, I say unto you, I know there is a God, and also that Christ shall come.\n",
      "Similarity Score: 0.3923966089515316\n",
      "\n",
      "\n",
      "Book: 2 Nephi, Chapter: 11, Verse: 7\n",
      "For if there be no Christ there be no God; and if there be no God we are not, for there could have been no creation. But there is a God, and he is Christ, and he cometh in the fulness of his own time.\n",
      "Similarity Score: 0.39162588016303074\n",
      "\n",
      "\n",
      "Book: Moroni, Chapter: 8, Verse: 8\n",
      "Listen to the words of Christ, your Redeemer, your Lord and your God. Behold, I came into the world not to call the righteous but sinners to repentance; the whole need no physician, but they that are sick; wherefore, little children are whole, for they are not capable of committing sin; wherefore the curse of Adam is taken from them in me, that it hath no power over them; and the law of circumcision is done away in me.\n",
      "Similarity Score: 0.3892046912892377\n",
      "\n",
      "\n",
      "Book: Alma, Chapter: 36, Verse: 18\n",
      "Now, as my mind caught hold upon this thought, I cried within my heart: O Jesus, thou Son of God, have mercy on me, who am in the gall of bitterness, and am encircled about by the everlasting chains of death.\n",
      "Similarity Score: 0.3888212292678022\n",
      "\n",
      "\n",
      "Book: 2 Nephi, Chapter: 10, Verse: 3\n",
      "Wherefore, as I said unto you, it must needs be expedient that Christ—for in the last night the angel spake unto me that this should be his name—should come among the Jews, among those who are the more wicked part of the world; and they shall crucify him—for thus it behooveth our God, and there is none other nation on earth that would crucify their God.\n",
      "Similarity Score: 0.38794081908103384\n",
      "\n",
      "\n",
      "Book: Alma, Chapter: 34, Verse: 5\n",
      "And we have beheld that the great question which is in your minds is whether the word be in the Son of God, or whether there shall be no Christ.\n",
      "Similarity Score: 0.38786887452394314\n",
      "\n",
      "\n",
      "Book: 3 Nephi, Chapter: 29, Verse: 5\n",
      "Wo unto him that spurneth at the doings of the Lord; yea, wo unto him that shall deny the Christ and his works!\n",
      "Similarity Score: 0.3872479446087953\n",
      "\n",
      "\n"
     ]
    },
    {
     "name": "stderr",
     "output_type": "stream",
     "text": [
      "/var/folders/yr/zvls53ps68gbn8hkxfbqj16c0000gn/T/ipykernel_70055/505626587.py:9: FutureWarning: Series.__getitem__ treating keys as positions is deprecated. In a future version, integer keys will always be treated as labels (consistent with DataFrame behavior). To access a value by position, use `ser.iloc[pos]`\n",
      "  print(f\"Book: {result[1]}, Chapter: {result[2]}, Verse: {result[3]}\")\n",
      "/var/folders/yr/zvls53ps68gbn8hkxfbqj16c0000gn/T/ipykernel_70055/505626587.py:10: FutureWarning: Series.__getitem__ treating keys as positions is deprecated. In a future version, integer keys will always be treated as labels (consistent with DataFrame behavior). To access a value by position, use `ser.iloc[pos]`\n",
      "  print(f\"{result[4]}\")\n"
     ]
    }
   ],
   "source": [
    "input_text = \"Jesus Christ\"\n",
    "find_most_similar_verses(input_text, topk=20, comparison_embeddings=normed_small_embeddings, df=df)"
   ]
  },
  {
   "cell_type": "code",
   "execution_count": null,
   "id": "24a045eb-67ec-4373-83ab-e07b7d584986",
   "metadata": {},
   "outputs": [],
   "source": [
    "# Example of how to use the function\n",
    "# Assuming 'df' is your dataframe loaded with embeddings\n",
    "input_text = \"I make a record in the language of my fathers\"\n",
    "top_k_verses = find_most_similar_verses(df, input_text, top_k=3)\n",
    "\n",
    "# Print the results\n",
    "for result in top_k_verses:\n",
    "    print(f\"Book: {result[0]}, Chapter: {result[1]}, Verse: {result[2]}\")\n",
    "    print(f\"Text: {result[3]}\")\n",
    "    print(f\"Similarity Score: {result[4]}\")\n",
    "    print(\"\\n\")"
   ]
  },
  {
   "cell_type": "code",
   "execution_count": 11,
   "id": "1e3ae026-1f68-4f60-9685-944df3fd0471",
   "metadata": {},
   "outputs": [],
   "source": [
    "# Function to compute cosine similarity\n",
    "def cosine_similarity(embedding1, embedding2):\n",
    "    return 1 - cosine(embedding1, embedding2)\n",
    "\n",
    "# Function to find the top-k most similar verses\n",
    "def find_most_similar_verses(df, input_text, top_k=5):\n",
    "    # Get the embedding for the input text\n",
    "    new_embedding = get_embedding(input_text)\n",
    "    \n",
    "    # Initialize a list to store the results\n",
    "    similarities = []\n",
    "    \n",
    "    # Iterate through the dataframe and calculate cosine similarity\n",
    "    for idx, row in df.iterrows():\n",
    "        print(row['small\n",
    "        verse_embedding = np.array(row['small_embedding'])\n",
    "        similarity = cosine_similarity(new_embedding, verse_embedding)\n",
    "        similarities.append((row['Book'], row['Chapter'], row['Verse Number'], row['Verse Text'], similarity))\n",
    "    \n",
    "    # Sort the results based on similarity\n",
    "    sorted_similarities = sorted(similarities, key=lambda x: x[4], reverse=True)\n",
    "    \n",
    "    # Return the top-k most similar verses\n",
    "    return sorted_similarities[:top_k]"
   ]
  },
  {
   "cell_type": "code",
   "execution_count": null,
   "id": "bb4a0809-841a-4f1b-9c35-35e731b41821",
   "metadata": {},
   "outputs": [],
   "source": [
    "for idx, row in df.iterrows():\n",
    "    verse_embedding = np.array(row['small_embedding'])\n",
    "    print(verse_embedding)"
   ]
  },
  {
   "cell_type": "code",
   "execution_count": 12,
   "id": "c2c890e3-535e-4421-b644-21bad1fe3511",
   "metadata": {},
   "outputs": [
    {
     "ename": "ValueError",
     "evalue": "Input vector should be 1-D.",
     "output_type": "error",
     "traceback": [
      "\u001b[0;31m---------------------------------------------------------------------------\u001b[0m",
      "\u001b[0;31mValueError\u001b[0m                                Traceback (most recent call last)",
      "Cell \u001b[0;32mIn[12], line 4\u001b[0m\n\u001b[1;32m      1\u001b[0m \u001b[38;5;66;03m# Example of how to use the function\u001b[39;00m\n\u001b[1;32m      2\u001b[0m \u001b[38;5;66;03m# Assuming 'df' is your dataframe loaded with embeddings\u001b[39;00m\n\u001b[1;32m      3\u001b[0m input_text \u001b[38;5;241m=\u001b[39m \u001b[38;5;124m\"\u001b[39m\u001b[38;5;124mI make a record in the language of my fathers\u001b[39m\u001b[38;5;124m\"\u001b[39m\n\u001b[0;32m----> 4\u001b[0m top_k_verses \u001b[38;5;241m=\u001b[39m find_most_similar_verses(df, input_text, top_k\u001b[38;5;241m=\u001b[39m\u001b[38;5;241m3\u001b[39m)\n\u001b[1;32m      6\u001b[0m \u001b[38;5;66;03m# Print the results\u001b[39;00m\n\u001b[1;32m      7\u001b[0m \u001b[38;5;28;01mfor\u001b[39;00m result \u001b[38;5;129;01min\u001b[39;00m top_k_verses:\n",
      "Cell \u001b[0;32mIn[11], line 21\u001b[0m, in \u001b[0;36mfind_most_similar_verses\u001b[0;34m(df, input_text, top_k)\u001b[0m\n\u001b[1;32m     19\u001b[0m \u001b[38;5;28;01mfor\u001b[39;00m idx, row \u001b[38;5;129;01min\u001b[39;00m df\u001b[38;5;241m.\u001b[39miterrows():\n\u001b[1;32m     20\u001b[0m     verse_embedding \u001b[38;5;241m=\u001b[39m np\u001b[38;5;241m.\u001b[39marray(row[\u001b[38;5;124m'\u001b[39m\u001b[38;5;124msmall_embedding\u001b[39m\u001b[38;5;124m'\u001b[39m])\n\u001b[0;32m---> 21\u001b[0m     similarity \u001b[38;5;241m=\u001b[39m cosine_similarity(new_embedding, verse_embedding)\n\u001b[1;32m     22\u001b[0m     similarities\u001b[38;5;241m.\u001b[39mappend((row[\u001b[38;5;124m'\u001b[39m\u001b[38;5;124mBook\u001b[39m\u001b[38;5;124m'\u001b[39m], row[\u001b[38;5;124m'\u001b[39m\u001b[38;5;124mChapter\u001b[39m\u001b[38;5;124m'\u001b[39m], row[\u001b[38;5;124m'\u001b[39m\u001b[38;5;124mVerse Number\u001b[39m\u001b[38;5;124m'\u001b[39m], row[\u001b[38;5;124m'\u001b[39m\u001b[38;5;124mVerse Text\u001b[39m\u001b[38;5;124m'\u001b[39m], similarity))\n\u001b[1;32m     24\u001b[0m \u001b[38;5;66;03m# Sort the results based on similarity\u001b[39;00m\n",
      "Cell \u001b[0;32mIn[11], line 8\u001b[0m, in \u001b[0;36mcosine_similarity\u001b[0;34m(embedding1, embedding2)\u001b[0m\n\u001b[1;32m      7\u001b[0m \u001b[38;5;28;01mdef\u001b[39;00m \u001b[38;5;21mcosine_similarity\u001b[39m(embedding1, embedding2):\n\u001b[0;32m----> 8\u001b[0m     \u001b[38;5;28;01mreturn\u001b[39;00m \u001b[38;5;241m1\u001b[39m \u001b[38;5;241m-\u001b[39m cosine(embedding1, embedding2)\n",
      "File \u001b[0;32m/opt/anaconda3/envs/scripture_study/lib/python3.11/site-packages/scipy/spatial/distance.py:694\u001b[0m, in \u001b[0;36mcosine\u001b[0;34m(u, v, w)\u001b[0m\n\u001b[1;32m    653\u001b[0m \u001b[38;5;250m\u001b[39m\u001b[38;5;124;03m\"\"\"\u001b[39;00m\n\u001b[1;32m    654\u001b[0m \u001b[38;5;124;03mCompute the Cosine distance between 1-D arrays.\u001b[39;00m\n\u001b[1;32m    655\u001b[0m \n\u001b[0;32m   (...)\u001b[0m\n\u001b[1;32m    690\u001b[0m \n\u001b[1;32m    691\u001b[0m \u001b[38;5;124;03m\"\"\"\u001b[39;00m\n\u001b[1;32m    692\u001b[0m \u001b[38;5;66;03m# cosine distance is also referred to as 'uncentered correlation',\u001b[39;00m\n\u001b[1;32m    693\u001b[0m \u001b[38;5;66;03m#   or 'reflective correlation'\u001b[39;00m\n\u001b[0;32m--> 694\u001b[0m \u001b[38;5;28;01mreturn\u001b[39;00m correlation(u, v, w\u001b[38;5;241m=\u001b[39mw, centered\u001b[38;5;241m=\u001b[39m\u001b[38;5;28;01mFalse\u001b[39;00m)\n",
      "File \u001b[0;32m/opt/anaconda3/envs/scripture_study/lib/python3.11/site-packages/scipy/spatial/distance.py:626\u001b[0m, in \u001b[0;36mcorrelation\u001b[0;34m(u, v, w, centered)\u001b[0m\n\u001b[1;32m    576\u001b[0m \u001b[38;5;250m\u001b[39m\u001b[38;5;124;03m\"\"\"\u001b[39;00m\n\u001b[1;32m    577\u001b[0m \u001b[38;5;124;03mCompute the correlation distance between two 1-D arrays.\u001b[39;00m\n\u001b[1;32m    578\u001b[0m \n\u001b[0;32m   (...)\u001b[0m\n\u001b[1;32m    623\u001b[0m \u001b[38;5;124;03m0.5\u001b[39;00m\n\u001b[1;32m    624\u001b[0m \u001b[38;5;124;03m\"\"\"\u001b[39;00m\n\u001b[1;32m    625\u001b[0m u \u001b[38;5;241m=\u001b[39m _validate_vector(u)\n\u001b[0;32m--> 626\u001b[0m v \u001b[38;5;241m=\u001b[39m _validate_vector(v)\n\u001b[1;32m    627\u001b[0m \u001b[38;5;28;01mif\u001b[39;00m w \u001b[38;5;129;01mis\u001b[39;00m \u001b[38;5;129;01mnot\u001b[39;00m \u001b[38;5;28;01mNone\u001b[39;00m:\n\u001b[1;32m    628\u001b[0m     w \u001b[38;5;241m=\u001b[39m _validate_weights(w)\n",
      "File \u001b[0;32m/opt/anaconda3/envs/scripture_study/lib/python3.11/site-packages/scipy/spatial/distance.py:302\u001b[0m, in \u001b[0;36m_validate_vector\u001b[0;34m(u, dtype)\u001b[0m\n\u001b[1;32m    300\u001b[0m \u001b[38;5;28;01mif\u001b[39;00m u\u001b[38;5;241m.\u001b[39mndim \u001b[38;5;241m==\u001b[39m \u001b[38;5;241m1\u001b[39m:\n\u001b[1;32m    301\u001b[0m     \u001b[38;5;28;01mreturn\u001b[39;00m u\n\u001b[0;32m--> 302\u001b[0m \u001b[38;5;28;01mraise\u001b[39;00m \u001b[38;5;167;01mValueError\u001b[39;00m(\u001b[38;5;124m\"\u001b[39m\u001b[38;5;124mInput vector should be 1-D.\u001b[39m\u001b[38;5;124m\"\u001b[39m)\n",
      "\u001b[0;31mValueError\u001b[0m: Input vector should be 1-D."
     ]
    }
   ],
   "source": [
    "# Example of how to use the function\n",
    "# Assuming 'df' is your dataframe loaded with embeddings\n",
    "input_text = \"I make a record in the language of my fathers\"\n",
    "top_k_verses = find_most_similar_verses(df, input_text, top_k=3)\n",
    "\n",
    "# Print the results\n",
    "for result in top_k_verses:\n",
    "    print(f\"Book: {result[0]}, Chapter: {result[1]}, Verse: {result[2]}\")\n",
    "    print(f\"Text: {result[3]}\")\n",
    "    print(f\"Similarity Score: {result[4]}\")\n",
    "    print(\"\\n\")"
   ]
  },
  {
   "cell_type": "code",
   "execution_count": null,
   "id": "b1f6d91d-7752-44bd-9814-d45fcb49370e",
   "metadata": {},
   "outputs": [],
   "source": []
  }
 ],
 "metadata": {
  "kernelspec": {
   "display_name": "Python 3 (ipykernel)",
   "language": "python",
   "name": "python3"
  },
  "language_info": {
   "codemirror_mode": {
    "name": "ipython",
    "version": 3
   },
   "file_extension": ".py",
   "mimetype": "text/x-python",
   "name": "python",
   "nbconvert_exporter": "python",
   "pygments_lexer": "ipython3",
   "version": "3.11.9"
  }
 },
 "nbformat": 4,
 "nbformat_minor": 5
}
