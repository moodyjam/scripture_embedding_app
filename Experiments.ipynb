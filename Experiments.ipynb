{
 "cells": [
  {
   "cell_type": "code",
   "execution_count": null,
   "id": "14840831-a420-45fd-8d22-322514b15e12",
   "metadata": {},
   "outputs": [],
   "source": [
    "from openai import OpenAI\n",
    "import pandas as pd\n",
    "import time\n",
    "client = OpenAI()\n",
    "\n",
    "def get_embedding(text, model=\"text-embedding-3-small\"):\n",
    "   text = text.replace(\"\\n\", \" \")\n",
    "   return client.embeddings.create(input = [text], model=model).data[0].embedding"
   ]
  },
  {
   "cell_type": "code",
   "execution_count": 21,
   "id": "75e72f74-827c-4131-8a03-09bd72fbc0af",
   "metadata": {},
   "outputs": [],
   "source": [
    "embedding_model = \"text-embedding-3-small\"\n",
    "embedding_encoding = \"cl100k_base\"\n",
    "max_tokens = 8000  # the maximum for text-embedding-3-small is 8191"
   ]
  },
  {
   "cell_type": "code",
   "execution_count": 13,
   "id": "c88f8c82-b7a1-4c11-8fba-bd8e6d2fe75f",
   "metadata": {},
   "outputs": [
    {
     "data": {
      "text/html": [
       "<div>\n",
       "<style scoped>\n",
       "    .dataframe tbody tr th:only-of-type {\n",
       "        vertical-align: middle;\n",
       "    }\n",
       "\n",
       "    .dataframe tbody tr th {\n",
       "        vertical-align: top;\n",
       "    }\n",
       "\n",
       "    .dataframe thead th {\n",
       "        text-align: right;\n",
       "    }\n",
       "</style>\n",
       "<table border=\"1\" class=\"dataframe\">\n",
       "  <thead>\n",
       "    <tr style=\"text-align: right;\">\n",
       "      <th></th>\n",
       "      <th>Book</th>\n",
       "      <th>Chapter</th>\n",
       "      <th>Verse Number</th>\n",
       "      <th>Verse Text</th>\n",
       "    </tr>\n",
       "  </thead>\n",
       "  <tbody>\n",
       "    <tr>\n",
       "      <th>0</th>\n",
       "      <td>1 Nephi</td>\n",
       "      <td>1</td>\n",
       "      <td>1</td>\n",
       "      <td>I, Nephi, having been born of goodly parents, ...</td>\n",
       "    </tr>\n",
       "    <tr>\n",
       "      <th>1</th>\n",
       "      <td>1 Nephi</td>\n",
       "      <td>1</td>\n",
       "      <td>2</td>\n",
       "      <td>Yea, I make a record in the language of my fat...</td>\n",
       "    </tr>\n",
       "  </tbody>\n",
       "</table>\n",
       "</div>"
      ],
      "text/plain": [
       "      Book  Chapter  Verse Number  \\\n",
       "0  1 Nephi        1             1   \n",
       "1  1 Nephi        1             2   \n",
       "\n",
       "                                          Verse Text  \n",
       "0  I, Nephi, having been born of goodly parents, ...  \n",
       "1  Yea, I make a record in the language of my fat...  "
      ]
     },
     "execution_count": 13,
     "metadata": {},
     "output_type": "execute_result"
    }
   ],
   "source": [
    "# load & inspect dataset\n",
    "input_datapath = \"book_of_mormon.csv\"  # to save space, we provide a pre-filtered dataset\n",
    "df = pd.read_csv(input_datapath)\n",
    "df.head(2)"
   ]
  },
  {
   "cell_type": "code",
   "execution_count": 20,
   "id": "706c9f8c-16c1-4548-a0a9-657d6595673f",
   "metadata": {},
   "outputs": [
    {
     "name": "stdout",
     "output_type": "stream",
     "text": [
      "2.3730030059814453\n"
     ]
    }
   ],
   "source": [
    "start = time.time()\n",
    "df.loc[:9, \"embedding\"] = df[\"Verse Text\"].iloc[:10].apply(lambda x: get_embedding(x, model=embedding_model))\n",
    "print(time.time() - start)"
   ]
  },
  {
   "cell_type": "code",
   "execution_count": 22,
   "id": "26237209-2bc7-4876-8c32-8ea4dfea1557",
   "metadata": {},
   "outputs": [],
   "source": [
    "df[\"small_embedding\"] = df[\"Verse Text\"].apply(lambda x: get_embedding(x, model=embedding_model))"
   ]
  },
  {
   "cell_type": "code",
   "execution_count": 25,
   "id": "3647716f-0c5b-4566-ac06-9bd602eede2d",
   "metadata": {},
   "outputs": [],
   "source": [
    "df.to_csv(\"book_of_mormon_with_embeddings.csv\")"
   ]
  },
  {
   "cell_type": "code",
   "execution_count": 24,
   "id": "a52dc082-f134-4aa5-ae21-92cc35240c74",
   "metadata": {},
   "outputs": [],
   "source": [
    "df = df.drop('embedding', axis=1)"
   ]
  },
  {
   "cell_type": "code",
   "execution_count": null,
   "id": "1b6d8ec6-0363-458e-aed6-df4d3700f562",
   "metadata": {},
   "outputs": [],
   "source": []
  }
 ],
 "metadata": {
  "kernelspec": {
   "display_name": "Python 3 (ipykernel)",
   "language": "python",
   "name": "python3"
  },
  "language_info": {
   "codemirror_mode": {
    "name": "ipython",
    "version": 3
   },
   "file_extension": ".py",
   "mimetype": "text/x-python",
   "name": "python",
   "nbconvert_exporter": "python",
   "pygments_lexer": "ipython3",
   "version": "3.12.4"
  }
 },
 "nbformat": 4,
 "nbformat_minor": 5
}
